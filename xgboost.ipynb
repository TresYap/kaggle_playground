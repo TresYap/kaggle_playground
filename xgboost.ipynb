{
 "cells": [
  {
   "cell_type": "code",
   "execution_count": 1,
   "metadata": {},
   "outputs": [],
   "source": [
    "import xgboost as xgb\n",
    "import pandas as pd\n",
    "import numpy as np\n",
    "import matplotlib.pyplot as plt\n",
    "import seaborn as sns\n",
    "sns.set_style('dark')"
   ]
  },
  {
   "cell_type": "code",
   "execution_count": 2,
   "metadata": {},
   "outputs": [],
   "source": [
    "data = pd.read_csv('data/train.csv')\n",
    "test = pd.read_csv('data/test.csv')"
   ]
  },
  {
   "cell_type": "code",
   "execution_count": 3,
   "metadata": {},
   "outputs": [],
   "source": [
    "#XGBoost steps\n",
    "# Label encode\n",
    "# sklearn cv\n",
    "# hp tuning\n",
    "from sklearn.preprocessing import LabelEncoder\n",
    "def make_train(data):\n",
    "    train = data\n",
    "    for col in train.select_dtypes(include='object'):\n",
    "        le = LabelEncoder()\n",
    "        train[col] = le.fit_transform(train[col])\n",
    "    \n",
    "    return train"
   ]
  },
  {
   "cell_type": "code",
   "execution_count": 4,
   "metadata": {},
   "outputs": [],
   "source": [
    "train = make_train(data)"
   ]
  },
  {
   "cell_type": "code",
   "execution_count": 5,
   "metadata": {},
   "outputs": [
    {
     "name": "stdout",
     "output_type": "stream",
     "text": [
      "[16:17:56] WARNING: C:/Users/Administrator/workspace/xgboost-win64_release_1.3.0/src/objective/regression_obj.cu:170: reg:linear is now deprecated in favor of reg:squarederror.\n",
      "[16:17:56] WARNING: C:/Users/Administrator/workspace/xgboost-win64_release_1.3.0/src/objective/regression_obj.cu:170: reg:linear is now deprecated in favor of reg:squarederror.\n",
      "[16:17:56] WARNING: C:/Users/Administrator/workspace/xgboost-win64_release_1.3.0/src/objective/regression_obj.cu:170: reg:linear is now deprecated in favor of reg:squarederror.\n",
      "Wall time: 3min 6s\n"
     ]
    }
   ],
   "source": [
    "%%time\n",
    "X = train.drop(['id', 'target'], axis=1)\n",
    "y = train.target\n",
    "# data_dmatrix = xgb.DMatrix(data=X,label=y)\n",
    "# params = {\"objective\":\"reg:linear\",'colsample_bytree': 0.3,'learning_rate': 0.1,\n",
    "#                 'max_depth': 5, 'alpha': 10}\n",
    "\n",
    "# cv_results = xgb.cv(dtrain=data_dmatrix, params=params, nfold=3,\n",
    "#                     num_boost_round=1000,early_stopping_rounds=200,metrics=\"rmse\", as_pandas=True, seed=42)"
   ]
  },
  {
   "cell_type": "code",
   "execution_count": 6,
   "metadata": {},
   "outputs": [],
   "source": [
    "# cv_results.tail()\n",
    "\n",
    "# cv_results['test-rmse-mean'].min()"
   ]
  },
  {
   "cell_type": "markdown",
   "metadata": {},
   "source": [
    "### Hyperopt CV for XGBoost"
   ]
  },
  {
   "cell_type": "code",
   "execution_count": 62,
   "metadata": {},
   "outputs": [],
   "source": [
    "from sklearn.model_selection import cross_val_score\n",
    "from hyperopt import fmin, tpe, hp, Trials, STATUS_OK, space_eval\n",
    "\n",
    "def hyperopt_train(params):\n",
    "    model = xgb.XGBRegressor(**params)\n",
    "    return -1 * cross_val_score(model, X, y, scoring=\"neg_root_mean_squared_error\", n_jobs=-1, cv=5).mean()\n",
    "\n",
    "best = 0\n",
    "def objective(params):\n",
    "    global best\n",
    "    rmse = hyperopt_train(params)\n",
    "    if rmse < best:\n",
    "        best = rmse\n",
    "        print('new best: ', best, params)\n",
    "    return {'loss': rmse, 'status': STATUS_OK}"
   ]
  },
  {
   "cell_type": "code",
   "execution_count": 63,
   "metadata": {},
   "outputs": [
    {
     "name": "stdout",
     "output_type": "stream",
     "text": [
      "100%|███████████████████████████████████████████████████| 5/5 [01:52<00:00, 22.52s/trial, best loss: 0.8571415219557454]\n",
      "Best Params:  {'gamma': 0.32, 'max_depth': 2, 'n_estimators': 46}\n",
      "Best RMSE:  0\n",
      "Wall time: 1min 52s\n"
     ]
    }
   ],
   "source": [
    "%%time\n",
    "space = {\n",
    "    'objective': 'reg:linear',\n",
    "    'n_estimators': hp.choice('n_estimators', range(100, 500)),\n",
    "    'max_depth': hp.choice('max_depth', range(5, 10)),\n",
    "    'gamma': hp.quniform('gamma', 0, 0.5, 0.01),\n",
    "    'tree_method': 'gpu_hist',\n",
    "    'random_seed': 42\n",
    "}\n",
    "\n",
    "trials = Trials()\n",
    "best_params = fmin(fn=objective,\n",
    "            space=space,\n",
    "            algo=tpe.suggest,\n",
    "            max_evals=5,\n",
    "            trials=trials\n",
    "           )\n",
    "params = space_eval(space, trials.argmin)\n",
    "print(\"Best Params: \", params)\n",
    "print(\"Best RMSE: \", best)"
   ]
  },
  {
   "cell_type": "markdown",
   "metadata": {},
   "source": [
    "### 450 estimators cuz idk how to set early stopping on XGBRegressor.fit()"
   ]
  },
  {
   "cell_type": "code",
   "execution_count": 19,
   "metadata": {},
   "outputs": [],
   "source": [
    "model = xgb.XGBRegressor(objective ='reg:linear', colsample_bytree = 0.3, learning_rate = 0.1,\n",
    "                max_depth = 5, alpha = 10, n_estimators = 450, seed=42)"
   ]
  },
  {
   "cell_type": "code",
   "execution_count": 20,
   "metadata": {},
   "outputs": [],
   "source": [
    "test = make_train(test)\n",
    "test_X = test.drop(['id'], axis=1)\n",
    "\n",
    "def predict_test(model, X, y):\n",
    "    model.fit(X, y)\n",
    "    pred = model.predict(test_X)\n",
    "#     pred.to_csv('test_pred.csv')\n",
    "    return pred"
   ]
  },
  {
   "cell_type": "code",
   "execution_count": 21,
   "metadata": {},
   "outputs": [
    {
     "name": "stdout",
     "output_type": "stream",
     "text": [
      "[16:44:15] WARNING: C:/Users/Administrator/workspace/xgboost-win64_release_1.3.0/src/objective/regression_obj.cu:170: reg:linear is now deprecated in favor of reg:squarederror.\n",
      "Wall time: 1min 3s\n"
     ]
    }
   ],
   "source": [
    "%%time\n",
    "pred = predict_test(model, X, y)\n",
    "pred_df = pd.DataFrame(test['id'], columns=['id'])\n",
    "pred_df['target'] = pred\n",
    "pred_df.to_csv('xgb_results.csv', index=False)"
   ]
  },
  {
   "cell_type": "code",
   "execution_count": 10,
   "metadata": {},
   "outputs": [
    {
     "name": "stdout",
     "output_type": "stream",
     "text": [
      "Successfully submitted to Tabular Playground Series - Feb 2021\n"
     ]
    },
    {
     "name": "stderr",
     "output_type": "stream",
     "text": [
      "\n",
      "  0%|          | 0.00/3.29M [00:00<?, ?B/s]\n",
      "  0%|          | 8.00k/3.29M [00:00<00:57, 60.2kB/s]\n",
      " 11%|#         | 368k/3.29M [00:00<00:35, 85.3kB/s] \n",
      " 30%|###       | 1.00M/3.29M [00:00<00:19, 121kB/s]\n",
      " 54%|#####3    | 1.77M/3.29M [00:00<00:09, 172kB/s]\n",
      " 66%|######5   | 2.16M/3.29M [00:02<00:06, 179kB/s]\n",
      "100%|##########| 3.29M/3.29M [00:05<00:00, 669kB/s]\n"
     ]
    }
   ],
   "source": [
    "# !kaggle competitions submit -c tabular-playground-series-feb-2021 -f xgb_results.csv -m \"xgb minimal processing\""
   ]
  }
 ],
 "metadata": {
  "kernelspec": {
   "display_name": "Python 3",
   "language": "python",
   "name": "python3"
  },
  "language_info": {
   "codemirror_mode": {
    "name": "ipython",
    "version": 3
   },
   "file_extension": ".py",
   "mimetype": "text/x-python",
   "name": "python",
   "nbconvert_exporter": "python",
   "pygments_lexer": "ipython3",
   "version": "3.7.4"
  }
 },
 "nbformat": 4,
 "nbformat_minor": 4
}
