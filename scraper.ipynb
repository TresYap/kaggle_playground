{
 "cells": [
  {
   "cell_type": "code",
   "execution_count": 1,
   "metadata": {},
   "outputs": [
    {
     "name": "stdout",
     "output_type": "stream",
     "text": [
      "Downloading tabular-playground-series-feb-2021.zip to C:\\Users\\tresyap\\python_shit\\kaggle_playground\n",
      "\n"
     ]
    },
    {
     "name": "stderr",
     "output_type": "stream",
     "text": [
      "\n",
      "  0%|          | 0.00/65.7M [00:00<?, ?B/s]\n",
      "  2%|1         | 1.00M/65.7M [00:00<00:11, 5.79MB/s]\n",
      "  6%|6         | 4.00M/65.7M [00:00<00:08, 7.46MB/s]\n",
      "  9%|9         | 6.00M/65.7M [00:00<00:06, 9.09MB/s]\n",
      " 14%|#3        | 9.00M/65.7M [00:00<00:05, 11.3MB/s]\n",
      " 17%|#6        | 11.0M/65.7M [00:00<00:05, 11.3MB/s]\n",
      " 24%|##4       | 16.0M/65.7M [00:00<00:03, 14.6MB/s]\n",
      " 29%|##8       | 19.0M/65.7M [00:00<00:02, 16.7MB/s]\n",
      " 33%|###3      | 22.0M/65.7M [00:01<00:02, 19.2MB/s]\n",
      " 38%|###8      | 25.0M/65.7M [00:01<00:02, 21.1MB/s]\n",
      " 43%|####2     | 28.0M/65.7M [00:01<00:01, 22.8MB/s]\n",
      " 47%|####7     | 31.0M/65.7M [00:01<00:01, 23.9MB/s]\n",
      " 52%|#####1    | 34.0M/65.7M [00:01<00:01, 24.7MB/s]\n",
      " 56%|#####6    | 37.0M/65.7M [00:01<00:01, 24.9MB/s]\n",
      " 61%|######    | 40.0M/65.7M [00:01<00:01, 25.6MB/s]\n",
      " 65%|######5   | 43.0M/65.7M [00:01<00:00, 25.6MB/s]\n",
      " 70%|######9   | 46.0M/65.7M [00:02<00:00, 25.8MB/s]\n",
      " 75%|#######4  | 49.0M/65.7M [00:02<00:00, 26.5MB/s]\n",
      " 79%|#######9  | 52.0M/65.7M [00:02<00:00, 26.1MB/s]\n",
      " 84%|########3 | 55.0M/65.7M [00:02<00:00, 24.8MB/s]\n",
      " 88%|########8 | 58.0M/65.7M [00:02<00:00, 25.3MB/s]\n",
      " 93%|#########2| 61.0M/65.7M [00:02<00:00, 25.6MB/s]\n",
      " 97%|#########7| 64.0M/65.7M [00:02<00:00, 26.3MB/s]\n",
      "100%|##########| 65.7M/65.7M [00:02<00:00, 24.5MB/s]\n"
     ]
    }
   ],
   "source": [
    "! kaggle competitions download -c tabular-playground-series-feb-2021"
   ]
  },
  {
   "cell_type": "code",
   "execution_count": 7,
   "metadata": {},
   "outputs": [
    {
     "name": "stderr",
     "output_type": "stream",
     "text": [
      "A subdirectory or file data already exists.\n",
      "'touch' is not recognized as an internal or external command,\n",
      "operable program or batch file.\n",
      "'mv' is not recognized as an internal or external command,\n",
      "operable program or batch file.\n"
     ]
    }
   ],
   "source": [
    "! mkdir data\n",
    "!"
   ]
  },
  {
   "cell_type": "code",
   "execution_count": 2,
   "metadata": {},
   "outputs": [],
   "source": [
    "from zipfile import ZipFile\n",
    "\n",
    "# Create a ZipFile Object and load sample.zip in it\n",
    "def unzip(file, destination):\n",
    "    with ZipFile(file, 'r') as zipObj:\n",
    "       # Extract all the contents of zip file in current directory\n",
    "       zipObj.extractall(destination)"
   ]
  },
  {
   "cell_type": "code",
   "execution_count": 3,
   "metadata": {},
   "outputs": [],
   "source": [
    "name = 'tabular-playground-series-feb-2021.zip'"
   ]
  },
  {
   "cell_type": "code",
   "execution_count": 4,
   "metadata": {},
   "outputs": [],
   "source": [
    "unzip(name, 'data')"
   ]
  },
  {
   "cell_type": "code",
   "execution_count": 5,
   "metadata": {},
   "outputs": [],
   "source": [
    "with open('.gitignore', 'w') as fp:\n",
    "    fp.write(name + '\\n')\n",
    "    fp.write('data/*\\n')\n",
    "    fp.write('model/*\\n')\n",
    "    fp.close()"
   ]
  },
  {
   "cell_type": "code",
   "execution_count": null,
   "metadata": {},
   "outputs": [],
   "source": []
  }
 ],
 "metadata": {
  "kernelspec": {
   "display_name": "Python 3",
   "language": "python",
   "name": "python3"
  },
  "language_info": {
   "codemirror_mode": {
    "name": "ipython",
    "version": 3
   },
   "file_extension": ".py",
   "mimetype": "text/x-python",
   "name": "python",
   "nbconvert_exporter": "python",
   "pygments_lexer": "ipython3",
   "version": "3.7.4"
  }
 },
 "nbformat": 4,
 "nbformat_minor": 4
}
