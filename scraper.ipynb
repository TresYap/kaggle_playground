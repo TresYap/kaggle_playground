{
 "cells": [
  {
   "cell_type": "code",
   "execution_count": 1,
   "metadata": {},
   "outputs": [
    {
     "name": "stdout",
     "output_type": "stream",
     "text": [
      "Downloading tabular-playground-series-feb-2021.zip to C:\\Users\\Leo\\projects\\kaggle_playground\n",
      "\n"
     ]
    },
    {
     "name": "stderr",
     "output_type": "stream",
     "text": [
      "\n",
      "  0%|          | 0.00/65.7M [00:00<?, ?B/s]\n",
      "  2%|1         | 1.00M/65.7M [00:00<00:52, 1.30MB/s]\n",
      "  3%|3         | 2.00M/65.7M [00:00<00:38, 1.73MB/s]\n",
      "  6%|6         | 4.00M/65.7M [00:01<00:27, 2.37MB/s]\n",
      " 11%|#         | 7.00M/65.7M [00:01<00:20, 2.95MB/s]\n",
      " 27%|##7       | 18.0M/65.7M [00:01<00:12, 4.11MB/s]\n",
      " 33%|###3      | 22.0M/65.7M [00:02<00:08, 5.18MB/s]\n",
      " 41%|####1     | 27.0M/65.7M [00:02<00:05, 7.10MB/s]\n",
      " 49%|####8     | 32.0M/65.7M [00:02<00:03, 9.50MB/s]\n",
      " 55%|#####4    | 36.0M/65.7M [00:03<00:05, 5.91MB/s]\n",
      " 62%|######2   | 41.0M/65.7M [00:03<00:03, 7.31MB/s]\n",
      " 67%|######6   | 44.0M/65.7M [00:04<00:02, 8.69MB/s]\n",
      " 70%|######9   | 46.0M/65.7M [00:04<00:02, 10.0MB/s]\n",
      " 76%|#######6  | 50.0M/65.7M [00:04<00:01, 11.1MB/s]\n",
      " 84%|########3 | 55.0M/65.7M [00:04<00:00, 13.5MB/s]\n",
      " 93%|#########2| 61.0M/65.7M [00:05<00:00, 15.5MB/s]\n",
      " 97%|#########7| 64.0M/65.7M [00:05<00:00, 11.5MB/s]\n",
      "100%|##########| 65.7M/65.7M [00:05<00:00, 12.6MB/s]\n"
     ]
    }
   ],
   "source": [
    "! kaggle competitions download -c tabular-playground-series-feb-2021"
   ]
  },
  {
   "cell_type": "code",
   "execution_count": 2,
   "metadata": {},
   "outputs": [
    {
     "name": "stderr",
     "output_type": "stream",
     "text": [
      "A subdirectory or file data already exists.\n",
      "A subdirectory or file model already exists.\n"
     ]
    }
   ],
   "source": [
    "! mkdir data\n",
    "! mkdir model"
   ]
  },
  {
   "cell_type": "code",
   "execution_count": 3,
   "metadata": {},
   "outputs": [],
   "source": [
    "from zipfile import ZipFile\n",
    "\n",
    "# Create a ZipFile Object and load sample.zip in it\n",
    "def unzip(file, destination):\n",
    "    with ZipFile(file, 'r') as zipObj:\n",
    "       # Extract all the contents of zip file in current directory\n",
    "       zipObj.extractall(destination)"
   ]
  },
  {
   "cell_type": "code",
   "execution_count": 4,
   "metadata": {},
   "outputs": [],
   "source": [
    "name = 'tabular-playground-series-feb-2021.zip'"
   ]
  },
  {
   "cell_type": "code",
   "execution_count": 5,
   "metadata": {},
   "outputs": [],
   "source": [
    "unzip(name, 'data')"
   ]
  },
  {
   "cell_type": "code",
   "execution_count": 6,
   "metadata": {},
   "outputs": [],
   "source": [
    "with open('.gitignore', 'w') as fp:\n",
    "    fp.write(name + '\\n')\n",
    "    fp.write('data/*\\n')\n",
    "    fp.write('model/*\\n')\n",
    "    fp.close()"
   ]
  }
 ],
 "metadata": {
  "kernelspec": {
   "display_name": "Python 3",
   "language": "python",
   "name": "python3"
  },
  "language_info": {
   "codemirror_mode": {
    "name": "ipython",
    "version": 3
   },
   "file_extension": ".py",
   "mimetype": "text/x-python",
   "name": "python",
   "nbconvert_exporter": "python",
   "pygments_lexer": "ipython3",
   "version": "3.6.5"
  }
 },
 "nbformat": 4,
 "nbformat_minor": 4
}
