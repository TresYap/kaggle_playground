{
 "cells": [
  {
   "cell_type": "code",
   "execution_count": 1,
   "metadata": {},
   "outputs": [
    {
     "name": "stdout",
     "output_type": "stream",
     "text": [
      "Downloading tabular-playground-series-feb-2021.zip to C:\\Users\\tresyap\\python_shit\\kaggle_playground\n",
      "\n"
     ]
    },
    {
     "name": "stderr",
     "output_type": "stream",
     "text": [
      "\n",
      "  0%|          | 0.00/65.7M [00:00<?, ?B/s]\n",
      "  2%|1         | 1.00M/65.7M [00:00<00:08, 8.20MB/s]\n",
      "  6%|6         | 4.00M/65.7M [00:00<00:06, 10.4MB/s]\n",
      "  9%|9         | 6.00M/65.7M [00:00<00:05, 12.2MB/s]\n",
      " 14%|#3        | 9.00M/65.7M [00:00<00:04, 14.4MB/s]\n",
      " 18%|#8        | 12.0M/65.7M [00:00<00:03, 16.9MB/s]\n",
      " 23%|##2       | 15.0M/65.7M [00:00<00:02, 18.8MB/s]\n",
      " 27%|##7       | 18.0M/65.7M [00:00<00:02, 20.0MB/s]\n",
      " 32%|###1      | 21.0M/65.7M [00:00<00:02, 21.7MB/s]\n",
      " 37%|###6      | 24.0M/65.7M [00:01<00:01, 22.9MB/s]\n",
      " 41%|####1     | 27.0M/65.7M [00:01<00:01, 24.1MB/s]\n",
      " 46%|####5     | 30.0M/65.7M [00:01<00:01, 23.2MB/s]\n",
      " 50%|#####     | 33.0M/65.7M [00:01<00:01, 18.4MB/s]\n",
      " 55%|#####4    | 36.0M/65.7M [00:01<00:01, 17.9MB/s]\n",
      " 61%|######    | 40.0M/65.7M [00:01<00:01, 20.9MB/s]\n",
      " 65%|######5   | 43.0M/65.7M [00:02<00:01, 20.5MB/s]\n",
      " 70%|######9   | 46.0M/65.7M [00:02<00:01, 15.8MB/s]\n",
      " 76%|#######6  | 50.0M/65.7M [00:02<00:00, 19.2MB/s]\n",
      " 82%|########2 | 54.0M/65.7M [00:02<00:00, 19.8MB/s]\n",
      " 87%|########6 | 57.0M/65.7M [00:02<00:00, 19.6MB/s]\n",
      " 91%|#########1| 60.0M/65.7M [00:02<00:00, 20.9MB/s]\n",
      " 96%|#########5| 63.0M/65.7M [00:03<00:00, 20.4MB/s]\n",
      "100%|##########| 65.7M/65.7M [00:03<00:00, 21.8MB/s]\n",
      "100%|##########| 65.7M/65.7M [00:03<00:00, 21.3MB/s]\n"
     ]
    }
   ],
   "source": [
    "! kaggle competitions download -c tabular-playground-series-feb-2021"
   ]
  },
  {
   "cell_type": "code",
   "execution_count": 3,
   "metadata": {},
   "outputs": [],
   "source": [
    "from zipfile import ZipFile\n",
    "\n",
    "# Create a ZipFile Object and load sample.zip in it\n",
    "def unzip(file, destination):\n",
    "    with ZipFile(file, 'r') as zipObj:\n",
    "       # Extract all the contents of zip file in current directory\n",
    "       zipObj.extractall(destination)"
   ]
  },
  {
   "cell_type": "code",
   "execution_count": 7,
   "metadata": {},
   "outputs": [],
   "source": [
    "name = 'tabular-playground-series-feb-2021.zip'"
   ]
  },
  {
   "cell_type": "code",
   "execution_count": 5,
   "metadata": {},
   "outputs": [],
   "source": [
    "unzip(name, 'data')"
   ]
  },
  {
   "cell_type": "code",
   "execution_count": 12,
   "metadata": {},
   "outputs": [],
   "source": [
    "with open('.gitignore', 'w') as fp:\n",
    "    fp.write(name + '\\n')\n",
    "    fp.write('data/*\\n')\n",
    "    fp.write('model/*\\n')\n",
    "    fp.close()"
   ]
  },
  {
   "cell_type": "code",
   "execution_count": null,
   "metadata": {},
   "outputs": [],
   "source": []
  }
 ],
 "metadata": {
  "kernelspec": {
   "display_name": "Python 3",
   "language": "python",
   "name": "python3"
  },
  "language_info": {
   "codemirror_mode": {
    "name": "ipython",
    "version": 3
   },
   "file_extension": ".py",
   "mimetype": "text/x-python",
   "name": "python",
   "nbconvert_exporter": "python",
   "pygments_lexer": "ipython3",
   "version": "3.7.4"
  }
 },
 "nbformat": 4,
 "nbformat_minor": 4
}
